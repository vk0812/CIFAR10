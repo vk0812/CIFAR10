{
  "nbformat": 4,
  "nbformat_minor": 0,
  "metadata": {
    "colab": {
      "name": "CIFAR10.ipynb",
      "provenance": [],
      "collapsed_sections": []
    },
    "kernelspec": {
      "name": "python3",
      "display_name": "Python 3"
    },
    "language_info": {
      "name": "python"
    },
    "accelerator": "GPU"
  },
  "cells": [
    {
      "cell_type": "code",
      "execution_count": 1,
      "metadata": {
        "id": "jZ8Esp86PN21"
      },
      "outputs": [],
      "source": [
        "import pandas as pd\n",
        "import numpy as np\n",
        "import tensorflow as tf\n",
        "from tensorflow.keras import datasets,layers,models\n",
        "import matplotlib.pyplot as plt"
      ]
    },
    {
      "cell_type": "code",
      "source": [
        "(x_train,y_train),(x_test,y_test) = datasets.cifar10.load_data()\n",
        "# Total 60000 images"
      ],
      "metadata": {
        "id": "q17Dm0_RPfUu"
      },
      "execution_count": 2,
      "outputs": []
    },
    {
      "cell_type": "code",
      "source": [
        "x_train.shape\n",
        "# 50000 samples\n",
        "# Each image(matrix) 32*32\n",
        "# and 3 is for rgb"
      ],
      "metadata": {
        "colab": {
          "base_uri": "https://localhost:8080/"
        },
        "id": "vGwF6oWYPtUJ",
        "outputId": "16426cb8-84b4-4cff-af7d-d3f5d9d91239"
      },
      "execution_count": 3,
      "outputs": [
        {
          "output_type": "execute_result",
          "data": {
            "text/plain": [
              "(50000, 32, 32, 3)"
            ]
          },
          "metadata": {},
          "execution_count": 3
        }
      ]
    },
    {
      "cell_type": "code",
      "source": [
        "x_test.shape"
      ],
      "metadata": {
        "colab": {
          "base_uri": "https://localhost:8080/"
        },
        "id": "Iq43aQgVP2fL",
        "outputId": "bf084479-870e-4c87-ce9a-f0f5b282bdde"
      },
      "execution_count": 4,
      "outputs": [
        {
          "output_type": "execute_result",
          "data": {
            "text/plain": [
              "(10000, 32, 32, 3)"
            ]
          },
          "metadata": {},
          "execution_count": 4
        }
      ]
    },
    {
      "cell_type": "code",
      "source": [
        "y_train.shape"
      ],
      "metadata": {
        "colab": {
          "base_uri": "https://localhost:8080/"
        },
        "id": "vQvy9-0cP5Jz",
        "outputId": "fde7189f-fa50-45a0-a0f7-46a2615c947f"
      },
      "execution_count": 5,
      "outputs": [
        {
          "output_type": "execute_result",
          "data": {
            "text/plain": [
              "(50000, 1)"
            ]
          },
          "metadata": {},
          "execution_count": 5
        }
      ]
    },
    {
      "cell_type": "code",
      "source": [
        "y_test.shape"
      ],
      "metadata": {
        "colab": {
          "base_uri": "https://localhost:8080/"
        },
        "id": "R-3BlhooQAE6",
        "outputId": "40226428-8705-4d76-e443-e40b1c5da2fd"
      },
      "execution_count": 6,
      "outputs": [
        {
          "output_type": "execute_result",
          "data": {
            "text/plain": [
              "(10000, 1)"
            ]
          },
          "metadata": {},
          "execution_count": 6
        }
      ]
    },
    {
      "cell_type": "code",
      "source": [
        "x_train[0]\n",
        "# First image"
      ],
      "metadata": {
        "colab": {
          "base_uri": "https://localhost:8080/"
        },
        "id": "tzZgAIDNQA9B",
        "outputId": "20d6363b-a17f-46ea-adcd-85655e9beb00"
      },
      "execution_count": 7,
      "outputs": [
        {
          "output_type": "execute_result",
          "data": {
            "text/plain": [
              "array([[[ 59,  62,  63],\n",
              "        [ 43,  46,  45],\n",
              "        [ 50,  48,  43],\n",
              "        ...,\n",
              "        [158, 132, 108],\n",
              "        [152, 125, 102],\n",
              "        [148, 124, 103]],\n",
              "\n",
              "       [[ 16,  20,  20],\n",
              "        [  0,   0,   0],\n",
              "        [ 18,   8,   0],\n",
              "        ...,\n",
              "        [123,  88,  55],\n",
              "        [119,  83,  50],\n",
              "        [122,  87,  57]],\n",
              "\n",
              "       [[ 25,  24,  21],\n",
              "        [ 16,   7,   0],\n",
              "        [ 49,  27,   8],\n",
              "        ...,\n",
              "        [118,  84,  50],\n",
              "        [120,  84,  50],\n",
              "        [109,  73,  42]],\n",
              "\n",
              "       ...,\n",
              "\n",
              "       [[208, 170,  96],\n",
              "        [201, 153,  34],\n",
              "        [198, 161,  26],\n",
              "        ...,\n",
              "        [160, 133,  70],\n",
              "        [ 56,  31,   7],\n",
              "        [ 53,  34,  20]],\n",
              "\n",
              "       [[180, 139,  96],\n",
              "        [173, 123,  42],\n",
              "        [186, 144,  30],\n",
              "        ...,\n",
              "        [184, 148,  94],\n",
              "        [ 97,  62,  34],\n",
              "        [ 83,  53,  34]],\n",
              "\n",
              "       [[177, 144, 116],\n",
              "        [168, 129,  94],\n",
              "        [179, 142,  87],\n",
              "        ...,\n",
              "        [216, 184, 140],\n",
              "        [151, 118,  84],\n",
              "        [123,  92,  72]]], dtype=uint8)"
            ]
          },
          "metadata": {},
          "execution_count": 7
        }
      ]
    },
    {
      "cell_type": "code",
      "source": [
        "obj = ['airplane','automobile','bird','cat','deer','dog','frog','horse','ship','truck']\n",
        "\n",
        "def printimg(x,y,i):\n",
        "  plt.figure(figsize=(15,2))\n",
        "  plt.imshow(x[i])\n",
        "  plt.xlabel(obj[y[i][0]])"
      ],
      "metadata": {
        "id": "4mjSo2rWQbSA"
      },
      "execution_count": 8,
      "outputs": []
    },
    {
      "cell_type": "code",
      "source": [
        "printimg(x_train,y_train,1)\n",
        "# Second image is of a truck"
      ],
      "metadata": {
        "colab": {
          "base_uri": "https://localhost:8080/",
          "height": 173
        },
        "id": "fcg1evb0Qu5j",
        "outputId": "0f43d01e-4659-476a-c19c-8a94b484b362"
      },
      "execution_count": 9,
      "outputs": [
        {
          "output_type": "display_data",
          "data": {
            "image/png": "[encoded data removed]",
            "text/plain": [
              "<Figure size 1080x144 with 1 Axes>"
            ]
          },
          "metadata": {
            "needs_background": "light"
          }
        }
      ]
    },
    {
      "cell_type": "code",
      "source": [
        "# Normalising our data\n",
        "# Dividing by 255\n",
        "\n",
        "x_train = x_train/255\n",
        "x_test = x_test/255"
      ],
      "metadata": {
        "id": "IHrSGA6-Sc2R"
      },
      "execution_count": 10,
      "outputs": []
    },
    {
      "cell_type": "code",
      "source": [
        "# First using ANN\n",
        "\n",
        "clf = models.Sequential()\n",
        "\n",
        "clf.add(layers.Flatten(input_shape=(32,32,3)))\n",
        "clf.add(layers.Dense(units=20,kernel_initializer='he_uniform',activation='relu'))\n",
        "clf.add(layers.Dense(units=25,kernel_initializer='he_uniform',activation='relu'))\n",
        "clf.add(layers.Dense(units=10,kernel_initializer='glorot_uniform',activation='sigmoid'))\n",
        "\n",
        "clf.compile(optimizer = 'SGD', loss = 'sparse_categorical_crossentropy', metrics = ['accuracy'])\n",
        "# sparse_categorical and not normal categorical because the y_train and y_test is not one hot encoded it direct gives value 0-9\n",
        "\n",
        "clf.fit(x_train,y_train,epochs=5)"
      ],
      "metadata": {
        "colab": {
          "base_uri": "https://localhost:8080/"
        },
        "id": "CwLlRpffUVo7",
        "outputId": "fb85ce45-a867-401b-d9de-da1b34877c39"
      },
      "execution_count": 11,
      "outputs": [
        {
          "output_type": "stream",
          "name": "stdout",
          "text": [
            "Epoch 1/5\n",
            "1563/1563 [==============================] - 10s 6ms/step - loss: 2.0236 - accuracy: 0.2450\n",
            "Epoch 2/5\n",
            "1563/1563 [==============================] - 10s 6ms/step - loss: 1.8465 - accuracy: 0.3348\n",
            "Epoch 3/5\n",
            "1563/1563 [==============================] - 9s 6ms/step - loss: 1.7863 - accuracy: 0.3599\n",
            "Epoch 4/5\n",
            "1563/1563 [==============================] - 9s 6ms/step - loss: 1.7446 - accuracy: 0.3755\n",
            "Epoch 5/5\n",
            "1563/1563 [==============================] - 6s 4ms/step - loss: 1.7107 - accuracy: 0.3895\n"
          ]
        },
        {
          "output_type": "execute_result",
          "data": {
            "text/plain": [
              "<keras.callbacks.History at 0x7f960d70ec50>"
            ]
          },
          "metadata": {},
          "execution_count": 11
        }
      ]
    },
    {
      "cell_type": "code",
      "source": [
        "clf.evaluate(x_test,y_test)\n",
        "# Performs really bad\n",
        "# Just gives an accuracy of 35.51%"
      ],
      "metadata": {
        "colab": {
          "base_uri": "https://localhost:8080/"
        },
        "id": "t6LvolmqWE2d",
        "outputId": "04d9a495-8a41-4a0a-f047-dce161ced42c"
      },
      "execution_count": 12,
      "outputs": [
        {
          "output_type": "stream",
          "name": "stdout",
          "text": [
            "313/313 [==============================] - 1s 3ms/step - loss: 1.7536 - accuracy: 0.3690\n"
          ]
        },
        {
          "output_type": "execute_result",
          "data": {
            "text/plain": [
              "[1.7535589933395386, 0.36899998784065247]"
            ]
          },
          "metadata": {},
          "execution_count": 12
        }
      ]
    },
    {
      "cell_type": "code",
      "source": [
        "clf.predict(x_test)[0]\n",
        "# First prediction \n",
        "# Arg max has to be used"
      ],
      "metadata": {
        "colab": {
          "base_uri": "https://localhost:8080/"
        },
        "id": "K7DtMwz9XXZl",
        "outputId": "cd914010-23fe-4d1d-8ce8-53cf47e3ce1e"
      },
      "execution_count": 13,
      "outputs": [
        {
          "output_type": "execute_result",
          "data": {
            "text/plain": [
              "array([0.21492976, 0.29013696, 0.36836848, 0.7895039 , 0.17373621,\n",
              "       0.73660535, 0.5699242 , 0.17882095, 0.4031305 , 0.25957254],\n",
              "      dtype=float32)"
            ]
          },
          "metadata": {},
          "execution_count": 13
        }
      ]
    },
    {
      "cell_type": "code",
      "source": [
        "np.argmax(clf.predict(x_test)[0])"
      ],
      "metadata": {
        "colab": {
          "base_uri": "https://localhost:8080/"
        },
        "id": "6yioM9ELXoTq",
        "outputId": "5e46af6a-7f7f-4c0d-c169-4b0bd74f7038"
      },
      "execution_count": 14,
      "outputs": [
        {
          "output_type": "execute_result",
          "data": {
            "text/plain": [
              "3"
            ]
          },
          "metadata": {},
          "execution_count": 14
        }
      ]
    },
    {
      "cell_type": "code",
      "source": [
        "y_p = clf.predict(x_test)\n",
        "y_pred = [np.argmax(i) for i in y_p]"
      ],
      "metadata": {
        "id": "79Nvag_YXhuD"
      },
      "execution_count": 15,
      "outputs": []
    },
    {
      "cell_type": "code",
      "source": [
        "from sklearn.metrics import classification_report\n",
        "\n",
        "print(classification_report(y_test,y_pred))"
      ],
      "metadata": {
        "colab": {
          "base_uri": "https://localhost:8080/"
        },
        "id": "SkPVtNfJYJk2",
        "outputId": "ddd30f4f-b0fd-47e2-a942-3093980ada08"
      },
      "execution_count": 16,
      "outputs": [
        {
          "output_type": "stream",
          "name": "stdout",
          "text": [
            "              precision    recall  f1-score   support\n",
            "\n",
            "           0       0.41      0.56      0.47      1000\n",
            "           1       0.57      0.36      0.44      1000\n",
            "           2       0.29      0.21      0.25      1000\n",
            "           3       0.25      0.33      0.28      1000\n",
            "           4       0.41      0.17      0.24      1000\n",
            "           5       0.38      0.32      0.35      1000\n",
            "           6       0.28      0.71      0.41      1000\n",
            "           7       0.57      0.24      0.34      1000\n",
            "           8       0.65      0.24      0.35      1000\n",
            "           9       0.39      0.54      0.45      1000\n",
            "\n",
            "    accuracy                           0.37     10000\n",
            "   macro avg       0.42      0.37      0.36     10000\n",
            "weighted avg       0.42      0.37      0.36     10000\n",
            "\n"
          ]
        }
      ]
    },
    {
      "cell_type": "code",
      "source": [
        "# Now lets create our model using CNN\n",
        "\n",
        "cnn = models.Sequential()\n",
        "\n",
        "cnn.add(layers.Conv2D(filters=40, kernel_size=(3,3), activation='relu', input_shape=(32,32,3)))\n",
        "cnn.add(layers.MaxPooling2D(pool_size=(2,2)))\n",
        "\n",
        "cnn.add(layers.Conv2D(filters=60, kernel_size=(3,3), activation='relu'))\n",
        "cnn.add(layers.MaxPooling2D(pool_size=(2,2)))\n",
        "\n",
        "cnn.add(layers.Flatten())\n",
        "cnn.add(layers.Dense(units=30,activation='relu'))\n",
        "cnn.add(layers.Dense(units=15,activation='softmax'))\n",
        "\n",
        "cnn.compile(optimizer = 'Adam', loss = 'sparse_categorical_crossentropy', metrics = ['accuracy'])\n",
        "\n",
        "cnn.fit(x_train,y_train,epochs=10)"
      ],
      "metadata": {
        "colab": {
          "base_uri": "https://localhost:8080/"
        },
        "id": "cU4WSKU9aSwa",
        "outputId": "943d10c3-9fe3-4b01-e312-b1b1ece6700c"
      },
      "execution_count": 17,
      "outputs": [
        {
          "output_type": "stream",
          "name": "stdout",
          "text": [
            "Epoch 1/10\n",
            "1563/1563 [==============================] - 12s 7ms/step - loss: 1.6044 - accuracy: 0.4260\n",
            "Epoch 2/10\n",
            "1563/1563 [==============================] - 11s 7ms/step - loss: 1.2183 - accuracy: 0.5693\n",
            "Epoch 3/10\n",
            "1563/1563 [==============================] - 11s 7ms/step - loss: 1.0696 - accuracy: 0.6259\n",
            "Epoch 4/10\n",
            "1563/1563 [==============================] - 11s 7ms/step - loss: 0.9790 - accuracy: 0.6593\n",
            "Epoch 5/10\n",
            "1563/1563 [==============================] - 11s 7ms/step - loss: 0.9197 - accuracy: 0.6814\n",
            "Epoch 6/10\n",
            "1563/1563 [==============================] - 11s 7ms/step - loss: 0.8683 - accuracy: 0.6989\n",
            "Epoch 7/10\n",
            "1563/1563 [==============================] - 11s 7ms/step - loss: 0.8258 - accuracy: 0.7133\n",
            "Epoch 8/10\n",
            "1563/1563 [==============================] - 11s 7ms/step - loss: 0.7899 - accuracy: 0.7260\n",
            "Epoch 9/10\n",
            "1563/1563 [==============================] - 11s 7ms/step - loss: 0.7622 - accuracy: 0.7368\n",
            "Epoch 10/10\n",
            "1563/1563 [==============================] - 11s 7ms/step - loss: 0.7345 - accuracy: 0.7457\n"
          ]
        },
        {
          "output_type": "execute_result",
          "data": {
            "text/plain": [
              "<keras.callbacks.History at 0x7f959141aed0>"
            ]
          },
          "metadata": {},
          "execution_count": 17
        }
      ]
    },
    {
      "cell_type": "code",
      "source": [
        "cnn.evaluate(x_test,y_test)\n",
        "# A much better of accuracy of close to 70 percent"
      ],
      "metadata": {
        "colab": {
          "base_uri": "https://localhost:8080/"
        },
        "id": "vEpJa1-bbXcn",
        "outputId": "5921e086-7b11-48f1-a45e-0f69aa73a4a4"
      },
      "execution_count": 18,
      "outputs": [
        {
          "output_type": "stream",
          "name": "stdout",
          "text": [
            "313/313 [==============================] - 2s 5ms/step - loss: 0.9164 - accuracy: 0.6891\n"
          ]
        },
        {
          "output_type": "execute_result",
          "data": {
            "text/plain": [
              "[0.9163951873779297, 0.6891000270843506]"
            ]
          },
          "metadata": {},
          "execution_count": 18
        }
      ]
    },
    {
      "cell_type": "code",
      "source": [
        "y_p1 = cnn.predict(x_test)\n",
        "y_pred1 = [np.argmax(i) for i in y_p1]"
      ],
      "metadata": {
        "id": "IcclcsbRdnxb"
      },
      "execution_count": 19,
      "outputs": []
    },
    {
      "cell_type": "code",
      "source": [
        "from sklearn.metrics import classification_report\n",
        "\n",
        "print(classification_report(y_test,y_pred1))"
      ],
      "metadata": {
        "colab": {
          "base_uri": "https://localhost:8080/"
        },
        "id": "uIJA_UZ-eogR",
        "outputId": "8f337005-39e2-4ece-d1a8-6868ce70ad2d"
      },
      "execution_count": 20,
      "outputs": [
        {
          "output_type": "stream",
          "name": "stdout",
          "text": [
            "              precision    recall  f1-score   support\n",
            "\n",
            "           0       0.68      0.74      0.71      1000\n",
            "           1       0.83      0.80      0.81      1000\n",
            "           2       0.54      0.61      0.57      1000\n",
            "           3       0.54      0.48      0.51      1000\n",
            "           4       0.67      0.60      0.64      1000\n",
            "           5       0.67      0.55      0.61      1000\n",
            "           6       0.67      0.84      0.74      1000\n",
            "           7       0.79      0.70      0.75      1000\n",
            "           8       0.71      0.86      0.77      1000\n",
            "           9       0.83      0.70      0.76      1000\n",
            "\n",
            "    accuracy                           0.69     10000\n",
            "   macro avg       0.69      0.69      0.69     10000\n",
            "weighted avg       0.69      0.69      0.69     10000\n",
            "\n"
          ]
        }
      ]
    }
  ]
}